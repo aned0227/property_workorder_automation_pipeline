{
  "cells": [
    {
      "cell_type": "markdown",
      "metadata": {
        "id": "view-in-github",
        "colab_type": "text"
      },
      "source": [
        "<a href=\"https://colab.research.google.com/github/aned0227/property_workorder_automation_pipeline/blob/main/01_generate_inspection_folders.ipynb\" target=\"_parent\"><img src=\"https://colab.research.google.com/assets/colab-badge.svg\" alt=\"Open In Colab\"/></a>"
      ]
    },
    {
      "cell_type": "markdown",
      "metadata": {
        "id": "jw-yok9PjpsW"
      },
      "source": [
        "Enter target work order and login info"
      ]
    },
    {
      "cell_type": "code",
      "execution_count": null,
      "metadata": {
        "id": "frWElZO77Amk"
      },
      "outputs": [],
      "source": [
        "#targetTech = 'Denver Constructs'\n",
        "#this was used to swap between company profiles"
      ]
    },
    {
      "cell_type": "code",
      "execution_count": null,
      "metadata": {
        "id": "pdujeVLmScIN"
      },
      "outputs": [],
      "source": [
        "username = 'cdsinc4u'\n",
        "password = 'password$'"
      ]
    },
    {
      "cell_type": "code",
      "execution_count": null,
      "metadata": {
        "colab": {
          "base_uri": "https://localhost:8080/"
        },
        "id": "25yLo3vlqsrZ",
        "outputId": "942c6a79-4a27-47c6-ce31-e517ad6f7a71"
      },
      "outputs": [
        {
          "output_type": "stream",
          "name": "stdout",
          "text": [
            "\u001b[?25l   \u001b[90m━━━━━━━━━━━━━━━━━━━━━━━━━━━━━━━━━━━━━━━━\u001b[0m \u001b[32m0.0/1.6 MB\u001b[0m \u001b[31m?\u001b[0m eta \u001b[36m-:--:--\u001b[0m\r\u001b[2K   \u001b[91m━━━━━━━\u001b[0m\u001b[90m╺\u001b[0m\u001b[90m━━━━━━━━━━━━━━━━━━━━━━━━━━━━━━━━\u001b[0m \u001b[32m0.3/1.6 MB\u001b[0m \u001b[31m8.6 MB/s\u001b[0m eta \u001b[36m0:00:01\u001b[0m\r\u001b[2K   \u001b[91m━━━━━━━━━━━━━━━━━━━━━━━━━━━━━━━━━━━━━━━\u001b[0m\u001b[91m╸\u001b[0m \u001b[32m1.6/1.6 MB\u001b[0m \u001b[31m24.8 MB/s\u001b[0m eta \u001b[36m0:00:01\u001b[0m\r\u001b[2K   \u001b[90m━━━━━━━━━━━━━━━━━━━━━━━━━━━━━━━━━━━━━━━━\u001b[0m \u001b[32m1.6/1.6 MB\u001b[0m \u001b[31m17.8 MB/s\u001b[0m eta \u001b[36m0:00:00\u001b[0m\n",
            "\u001b[?25h"
          ]
        }
      ],
      "source": [
        "!pip install -Uqq ipdb\n",
        "import ipdb"
      ]
    },
    {
      "cell_type": "code",
      "execution_count": null,
      "metadata": {
        "colab": {
          "base_uri": "https://localhost:8080/"
        },
        "id": "m2UPzbVoRBUA",
        "outputId": "57ea98ce-647f-48bb-bca5-8c64bea349ac"
      },
      "outputs": [
        {
          "output_type": "stream",
          "name": "stdout",
          "text": [
            "Requirement already satisfied: lxml in /usr/local/lib/python3.11/dist-packages (5.3.0)\n",
            "Requirement already satisfied: beautifulsoup4 in /usr/local/lib/python3.11/dist-packages (4.13.3)\n",
            "Requirement already satisfied: soupsieve>1.2 in /usr/local/lib/python3.11/dist-packages (from beautifulsoup4) (2.6)\n",
            "Requirement already satisfied: typing-extensions>=4.0.0 in /usr/local/lib/python3.11/dist-packages (from beautifulsoup4) (4.12.2)\n",
            "Requirement already satisfied: requests in /usr/local/lib/python3.11/dist-packages (2.32.3)\n",
            "Requirement already satisfied: charset-normalizer<4,>=2 in /usr/local/lib/python3.11/dist-packages (from requests) (3.4.1)\n",
            "Requirement already satisfied: idna<4,>=2.5 in /usr/local/lib/python3.11/dist-packages (from requests) (3.10)\n",
            "Requirement already satisfied: urllib3<3,>=1.21.1 in /usr/local/lib/python3.11/dist-packages (from requests) (2.3.0)\n",
            "Requirement already satisfied: certifi>=2017.4.17 in /usr/local/lib/python3.11/dist-packages (from requests) (2025.1.31)\n",
            "Collecting webdriver-manager\n",
            "  Downloading webdriver_manager-4.0.2-py2.py3-none-any.whl.metadata (12 kB)\n",
            "Requirement already satisfied: requests in /usr/local/lib/python3.11/dist-packages (from webdriver-manager) (2.32.3)\n",
            "Collecting python-dotenv (from webdriver-manager)\n",
            "  Downloading python_dotenv-1.0.1-py3-none-any.whl.metadata (23 kB)\n",
            "Requirement already satisfied: packaging in /usr/local/lib/python3.11/dist-packages (from webdriver-manager) (24.2)\n",
            "Requirement already satisfied: charset-normalizer<4,>=2 in /usr/local/lib/python3.11/dist-packages (from requests->webdriver-manager) (3.4.1)\n",
            "Requirement already satisfied: idna<4,>=2.5 in /usr/local/lib/python3.11/dist-packages (from requests->webdriver-manager) (3.10)\n",
            "Requirement already satisfied: urllib3<3,>=1.21.1 in /usr/local/lib/python3.11/dist-packages (from requests->webdriver-manager) (2.3.0)\n",
            "Requirement already satisfied: certifi>=2017.4.17 in /usr/local/lib/python3.11/dist-packages (from requests->webdriver-manager) (2025.1.31)\n",
            "Downloading webdriver_manager-4.0.2-py2.py3-none-any.whl (27 kB)\n",
            "Downloading python_dotenv-1.0.1-py3-none-any.whl (19 kB)\n",
            "Installing collected packages: python-dotenv, webdriver-manager\n",
            "Successfully installed python-dotenv-1.0.1 webdriver-manager-4.0.2\n",
            "Hit:1 http://archive.ubuntu.com/ubuntu jammy InRelease\n",
            "Get:2 http://archive.ubuntu.com/ubuntu jammy-updates InRelease [128 kB]\n",
            "Get:3 http://security.ubuntu.com/ubuntu jammy-security InRelease [129 kB]\n",
            "Get:4 https://cloud.r-project.org/bin/linux/ubuntu jammy-cran40/ InRelease [3,632 B]\n",
            "Get:5 https://developer.download.nvidia.com/compute/cuda/repos/ubuntu2204/x86_64  InRelease [1,581 B]\n",
            "Get:6 http://archive.ubuntu.com/ubuntu jammy-backports InRelease [127 kB]\n",
            "Get:7 https://r2u.stat.illinois.edu/ubuntu jammy InRelease [6,555 B]\n",
            "Hit:8 https://ppa.launchpadcontent.net/deadsnakes/ppa/ubuntu jammy InRelease\n",
            "Get:9 https://cloud.r-project.org/bin/linux/ubuntu jammy-cran40/ Packages [66.7 kB]\n",
            "Get:10 http://security.ubuntu.com/ubuntu jammy-security/main amd64 Packages [2,606 kB]\n",
            "Get:11 https://ppa.launchpadcontent.net/graphics-drivers/ppa/ubuntu jammy InRelease [24.3 kB]\n",
            "Get:12 https://developer.download.nvidia.com/compute/cuda/repos/ubuntu2204/x86_64  Packages [1,311 kB]\n",
            "Hit:13 https://ppa.launchpadcontent.net/ubuntugis/ppa/ubuntu jammy InRelease\n",
            "Get:14 http://security.ubuntu.com/ubuntu jammy-security/universe amd64 Packages [1,230 kB]\n",
            "Get:15 http://archive.ubuntu.com/ubuntu jammy-updates/universe amd64 Packages [1,526 kB]\n",
            "Get:16 http://archive.ubuntu.com/ubuntu jammy-updates/restricted amd64 Packages [3,748 kB]\n",
            "Get:17 http://archive.ubuntu.com/ubuntu jammy-updates/main amd64 Packages [2,911 kB]\n",
            "Get:18 https://r2u.stat.illinois.edu/ubuntu jammy/main amd64 Packages [2,655 kB]\n",
            "Get:19 https://r2u.stat.illinois.edu/ubuntu jammy/main all Packages [8,667 kB]\n",
            "Get:20 https://ppa.launchpadcontent.net/graphics-drivers/ppa/ubuntu jammy/main amd64 Packages [57.8 kB]\n",
            "Fetched 25.2 MB in 3s (9,155 kB/s)\n",
            "Reading package lists... Done\n",
            "W: Skipping acquire of configured file 'main/source/Sources' as repository 'https://r2u.stat.illinois.edu/ubuntu jammy InRelease' does not seem to provide it (sources.list entry misspelt?)\n"
          ]
        }
      ],
      "source": [
        "!pip install lxml\n",
        "!pip install beautifulsoup4\n",
        "!pip install requests\n",
        "!pip install webdriver-manager\n",
        "!apt-get update\n",
        "#!apt-get install chromium chromium-driver\n",
        "#!pip install selenium"
      ]
    },
    {
      "cell_type": "code",
      "execution_count": null,
      "metadata": {
        "colab": {
          "background_save": true
        },
        "id": "AkFACukG-o_e",
        "outputId": "3bc116c8-aa5d-4c79-861e-fd7dd5617559"
      },
      "outputs": [
        {
          "name": "stdout",
          "output_type": "stream",
          "text": [
            "Collecting selenium==4.11.2\n",
            "  Downloading selenium-4.11.2-py3-none-any.whl (7.2 MB)\n",
            "\u001b[2K     \u001b[90m━━━━━━━━━━━━━━━━━━━━━━━━━━━━━━━━━━━━━━━━\u001b[0m \u001b[32m7.2/7.2 MB\u001b[0m \u001b[31m56.1 MB/s\u001b[0m eta \u001b[36m0:00:00\u001b[0m\n",
            "\u001b[?25hRequirement already satisfied: urllib3[socks]<3,>=1.26 in /usr/local/lib/python3.10/dist-packages (from selenium==4.11.2) (2.0.7)\n",
            "Collecting trio~=0.17 (from selenium==4.11.2)\n",
            "  Downloading trio-0.24.0-py3-none-any.whl (460 kB)\n",
            "\u001b[2K     \u001b[90m━━━━━━━━━━━━━━━━━━━━━━━━━━━━━━━━━━━━━━━━\u001b[0m \u001b[32m460.2/460.2 kB\u001b[0m \u001b[31m34.0 MB/s\u001b[0m eta \u001b[36m0:00:00\u001b[0m\n",
            "\u001b[?25hCollecting trio-websocket~=0.9 (from selenium==4.11.2)\n",
            "  Downloading trio_websocket-0.11.1-py3-none-any.whl (17 kB)\n",
            "Requirement already satisfied: certifi>=2021.10.8 in /usr/local/lib/python3.10/dist-packages (from selenium==4.11.2) (2024.2.2)\n",
            "Requirement already satisfied: attrs>=20.1.0 in /usr/local/lib/python3.10/dist-packages (from trio~=0.17->selenium==4.11.2) (23.2.0)\n",
            "Requirement already satisfied: sortedcontainers in /usr/local/lib/python3.10/dist-packages (from trio~=0.17->selenium==4.11.2) (2.4.0)\n",
            "Requirement already satisfied: idna in /usr/local/lib/python3.10/dist-packages (from trio~=0.17->selenium==4.11.2) (3.6)\n",
            "Collecting outcome (from trio~=0.17->selenium==4.11.2)\n",
            "  Downloading outcome-1.3.0.post0-py2.py3-none-any.whl (10 kB)\n",
            "Requirement already satisfied: sniffio>=1.3.0 in /usr/local/lib/python3.10/dist-packages (from trio~=0.17->selenium==4.11.2) (1.3.1)\n",
            "Requirement already satisfied: exceptiongroup in /usr/local/lib/python3.10/dist-packages (from trio~=0.17->selenium==4.11.2) (1.2.0)\n",
            "Collecting wsproto>=0.14 (from trio-websocket~=0.9->selenium==4.11.2)\n",
            "  Downloading wsproto-1.2.0-py3-none-any.whl (24 kB)\n",
            "Requirement already satisfied: pysocks!=1.5.7,<2.0,>=1.5.6 in /usr/local/lib/python3.10/dist-packages (from urllib3[socks]<3,>=1.26->selenium==4.11.2) (1.7.1)\n",
            "Collecting h11<1,>=0.9.0 (from wsproto>=0.14->trio-websocket~=0.9->selenium==4.11.2)\n",
            "  Downloading h11-0.14.0-py3-none-any.whl (58 kB)\n",
            "\u001b[2K     \u001b[90m━━━━━━━━━━━━━━━━━━━━━━━━━━━━━━━━━━━━━━━━\u001b[0m \u001b[32m58.3/58.3 kB\u001b[0m \u001b[31m7.5 MB/s\u001b[0m eta \u001b[36m0:00:00\u001b[0m\n",
            "\u001b[?25hInstalling collected packages: outcome, h11, wsproto, trio, trio-websocket, selenium\n",
            "Successfully installed h11-0.14.0 outcome-1.3.0.post0 selenium-4.11.2 trio-0.24.0 trio-websocket-0.11.1 wsproto-1.2.0\n",
            "--2024-03-08 06:07:58--  https://dl.google.com/linux/direct/google-chrome-stable_current_amd64.deb\n",
            "Resolving dl.google.com (dl.google.com)... 172.253.115.91, 172.253.115.136, 172.253.115.93, ...\n",
            "Connecting to dl.google.com (dl.google.com)|172.253.115.91|:443... connected.\n",
            "HTTP request sent, awaiting response... 200 OK\n",
            "Length: 106071384 (101M) [application/x-debian-package]\n",
            "Saving to: ‘google-chrome-stable_current_amd64.deb’\n",
            "\n",
            "google-chrome-stabl 100%[===================>] 101.16M   307MB/s    in 0.3s    \n",
            "\n",
            "2024-03-08 06:07:59 (307 MB/s) - ‘google-chrome-stable_current_amd64.deb’ saved [106071384/106071384]\n",
            "\n",
            "Reading package lists... Done\n",
            "Building dependency tree... Done\n",
            "Reading state information... Done\n",
            "Note, selecting 'google-chrome-stable' instead of './google-chrome-stable_current_amd64.deb'\n",
            "The following additional packages will be installed:\n",
            "  libu2f-udev libudev1 libvulkan1 mesa-vulkan-drivers systemd-hwe-hwdb udev\n",
            "The following NEW packages will be installed:\n",
            "  google-chrome-stable libu2f-udev libvulkan1 mesa-vulkan-drivers systemd-hwe-hwdb udev\n",
            "The following packages will be upgraded:\n",
            "  libudev1\n",
            "1 upgraded, 6 newly installed, 0 to remove and 39 not upgraded.\n",
            "Need to get 12.5 MB/119 MB of archives.\n",
            "After this operation, 401 MB of additional disk space will be used.\n",
            "Get:1 http://archive.ubuntu.com/ubuntu jammy-updates/main amd64 libudev1 amd64 249.11-0ubuntu3.12 [78.2 kB]\n",
            "Get:2 http://archive.ubuntu.com/ubuntu jammy-updates/main amd64 udev amd64 249.11-0ubuntu3.12 [1,557 kB]\n",
            "Get:3 /content/google-chrome-stable_current_amd64.deb google-chrome-stable amd64 122.0.6261.111-1 [106 MB]\n",
            "Get:4 http://archive.ubuntu.com/ubuntu jammy/main amd64 libu2f-udev all 1.1.10-3build2 [4,190 B]\n",
            "Get:5 http://archive.ubuntu.com/ubuntu jammy/main amd64 libvulkan1 amd64 1.3.204.1-2 [128 kB]\n",
            "Get:6 http://archive.ubuntu.com/ubuntu jammy-updates/main amd64 mesa-vulkan-drivers amd64 23.2.1-1ubuntu3.1~22.04.2 [10.7 MB]\n",
            "Get:7 http://archive.ubuntu.com/ubuntu jammy-updates/main amd64 systemd-hwe-hwdb all 249.11.5 [3,228 B]\n",
            "Fetched 12.5 MB in 2s (8,217 kB/s)\n",
            "(Reading database ... 121749 files and directories currently installed.)\n",
            "Preparing to unpack .../libudev1_249.11-0ubuntu3.12_amd64.deb ...\n",
            "Unpacking libudev1:amd64 (249.11-0ubuntu3.12) over (249.11-0ubuntu3.10) ...\n",
            "Setting up libudev1:amd64 (249.11-0ubuntu3.12) ...\n",
            "Selecting previously unselected package udev.\n",
            "(Reading database ... 121749 files and directories currently installed.)\n",
            "Preparing to unpack .../0-udev_249.11-0ubuntu3.12_amd64.deb ...\n",
            "Unpacking udev (249.11-0ubuntu3.12) ...\n",
            "Selecting previously unselected package libu2f-udev.\n",
            "Preparing to unpack .../1-libu2f-udev_1.1.10-3build2_all.deb ...\n",
            "Unpacking libu2f-udev (1.1.10-3build2) ...\n",
            "Selecting previously unselected package libvulkan1:amd64.\n",
            "Preparing to unpack .../2-libvulkan1_1.3.204.1-2_amd64.deb ...\n",
            "Unpacking libvulkan1:amd64 (1.3.204.1-2) ...\n",
            "Selecting previously unselected package google-chrome-stable.\n",
            "Preparing to unpack .../3-google-chrome-stable_current_amd64.deb ...\n",
            "Unpacking google-chrome-stable (122.0.6261.111-1) ...\n",
            "Selecting previously unselected package mesa-vulkan-drivers:amd64.\n",
            "Preparing to unpack .../4-mesa-vulkan-drivers_23.2.1-1ubuntu3.1~22.04.2_amd64.deb ...\n",
            "Unpacking mesa-vulkan-drivers:amd64 (23.2.1-1ubuntu3.1~22.04.2) ...\n",
            "Selecting previously unselected package systemd-hwe-hwdb.\n",
            "Preparing to unpack .../5-systemd-hwe-hwdb_249.11.5_all.deb ...\n",
            "Unpacking systemd-hwe-hwdb (249.11.5) ...\n",
            "Setting up udev (249.11-0ubuntu3.12) ...\n",
            "invoke-rc.d: could not determine current runlevel\n",
            "invoke-rc.d: policy-rc.d denied execution of start.\n",
            "Setting up libvulkan1:amd64 (1.3.204.1-2) ...\n",
            "Setting up systemd-hwe-hwdb (249.11.5) ...\n",
            "Setting up mesa-vulkan-drivers:amd64 (23.2.1-1ubuntu3.1~22.04.2) ...\n",
            "Setting up libu2f-udev (1.1.10-3build2) ...\n",
            "Setting up google-chrome-stable (122.0.6261.111-1) ...\n",
            "update-alternatives: using /usr/bin/google-chrome-stable to provide /usr/bin/x-www-browser (x-www-browser) in auto mode\n",
            "update-alternatives: using /usr/bin/google-chrome-stable to provide /usr/bin/gnome-www-browser (gnome-www-browser) in auto mode\n",
            "update-alternatives: using /usr/bin/google-chrome-stable to provide /usr/bin/google-chrome (google-chrome) in auto mode\n",
            "Processing triggers for man-db (2.10.2-1) ...\n",
            "Processing triggers for libc-bin (2.35-0ubuntu3.4) ...\n",
            "/sbin/ldconfig.real: /usr/local/lib/libtbbbind_2_0.so.3 is not a symbolic link\n",
            "\n",
            "/sbin/ldconfig.real: /usr/local/lib/libtbbmalloc.so.2 is not a symbolic link\n",
            "\n",
            "/sbin/ldconfig.real: /usr/local/lib/libtbbbind.so.3 is not a symbolic link\n",
            "\n",
            "/sbin/ldconfig.real: /usr/local/lib/libtbb.so.12 is not a symbolic link\n",
            "\n",
            "/sbin/ldconfig.real: /usr/local/lib/libtbbmalloc_proxy.so.2 is not a symbolic link\n",
            "\n",
            "/sbin/ldconfig.real: /usr/local/lib/libtbbbind_2_5.so.3 is not a symbolic link\n",
            "\n"
          ]
        }
      ],
      "source": [
        "!pip install selenium==4.11.2 #4.9.0\n",
        "!wget https://dl.google.com/linux/direct/google-chrome-stable_current_amd64.deb\n",
        "!apt install ./google-chrome-stable_current_amd64.deb"
      ]
    },
    {
      "cell_type": "code",
      "execution_count": null,
      "metadata": {
        "colab": {
          "background_save": true
        },
        "id": "FnvU5l3oFTEC",
        "outputId": "febc8e48-d483-4047-edca-06d57c370439"
      },
      "outputs": [
        {
          "name": "stdout",
          "output_type": "stream",
          "text": [
            "Google Chrome 122.0.6261.111 \n"
          ]
        }
      ],
      "source": [
        "!google-chrome --version"
      ]
    },
    {
      "cell_type": "code",
      "execution_count": null,
      "metadata": {
        "colab": {
          "background_save": true
        },
        "id": "26YQoT3K0Liz",
        "outputId": "e6bed931-4815-4d09-b3b2-3bd97cd7d38e"
      },
      "outputs": [
        {
          "name": "stdout",
          "output_type": "stream",
          "text": [
            "--2024-03-08 06:08:23--  https://chromedriver.storage.googleapis.com/114.0.5735.90/chromedriver_linux64.zip\n",
            "Resolving chromedriver.storage.googleapis.com (chromedriver.storage.googleapis.com)... 172.253.115.207, 172.253.122.207, 172.253.63.207, ...\n",
            "Connecting to chromedriver.storage.googleapis.com (chromedriver.storage.googleapis.com)|172.253.115.207|:443... connected.\n",
            "HTTP request sent, awaiting response... 200 OK\n",
            "Length: 7407250 (7.1M) [application/zip]\n",
            "Saving to: ‘chromedriver_linux64.zip’\n",
            "\n",
            "\rchromedriver_linux6   0%[                    ]       0  --.-KB/s               \rchromedriver_linux6 100%[===================>]   7.06M  --.-KB/s    in 0.03s   \n",
            "\n",
            "2024-03-08 06:08:23 (220 MB/s) - ‘chromedriver_linux64.zip’ saved [7407250/7407250]\n",
            "\n",
            "Archive:  chromedriver_linux64.zip\n",
            "  inflating: chromedriver            \n",
            "  inflating: LICENSE.chromedriver    \n"
          ]
        }
      ],
      "source": [
        "!wget https://chromedriver.storage.googleapis.com/114.0.5735.90/chromedriver_linux64.zip\n",
        "!unzip chromedriver_linux64.zip"
      ]
    },
    {
      "cell_type": "code",
      "execution_count": null,
      "metadata": {
        "colab": {
          "background_save": true
        },
        "id": "QhoZ4gWTXDd3",
        "outputId": "59df2d81-3c3e-4a09-9c8a-fddac301ea7d"
      },
      "outputs": [
        {
          "name": "stdout",
          "output_type": "stream",
          "text": [
            "Google Chrome 122.0.6261.111 \n"
          ]
        }
      ],
      "source": [
        "!google-chrome --version"
      ]
    },
    {
      "cell_type": "markdown",
      "metadata": {
        "id": "34gLX-9GU6aU"
      },
      "source": [
        "below code is used to hide yourself from domain, not appearing as a bot"
      ]
    },
    {
      "cell_type": "code",
      "execution_count": null,
      "metadata": {
        "colab": {
          "background_save": true
        },
        "id": "202_TAAf8wWl"
      },
      "outputs": [],
      "source": [
        "from selenium import webdriver\n",
        "from selenium.webdriver.chrome.service import Service\n",
        "\n",
        "\n",
        "chrome_options = webdriver.ChromeOptions()\n",
        "#run Selenium in headless mode\n",
        "chrome_options.add_argument('--headless')\n",
        "chrome_options.add_argument('--no-sandbox')\n",
        "#overcome limited resource problems\n",
        "chrome_options.add_argument('--disable-gpu')\n",
        "chrome_options.add_argument('--disable-dev-shm-usage')\n",
        "chrome_options.add_argument(\"lang=en\")\n",
        "#open Browser in maximized mode\n",
        "chrome_options.add_argument(\"start-maximized\")\n",
        "chrome_options.add_argument(\"--window-size=1920,1200\")\n",
        "\n",
        "#disable infobars\n",
        "chrome_options.add_argument(\"disable-infobars\")\n",
        "#disable extension\n",
        "chrome_options.add_argument(\"--disable-extensions\")\n",
        "chrome_options.add_argument(\"--incognito\")\n",
        "chrome_options.add_argument(\"--disable-blink-features=AutomationControlled\")\n",
        "\n",
        "#service = Service(executable_path=r'chromedriver')\n",
        "\n",
        "browser = webdriver.Chrome(service=Service(), options=chrome_options)"
      ]
    },
    {
      "cell_type": "code",
      "execution_count": null,
      "metadata": {
        "colab": {
          "background_save": true
        },
        "id": "Jdj-4HjGsGPq"
      },
      "outputs": [],
      "source": [
        "import os\n",
        "import shutil\n",
        "from google.colab import files\n",
        "import re\n",
        "import zipfile\n",
        "import time\n",
        "import sys # to access the system\n",
        "import cv2\n",
        "from google.colab.patches import cv2_imshow\n",
        "from bs4 import BeautifulSoup"
      ]
    },
    {
      "cell_type": "markdown",
      "metadata": {
        "id": "jjAAAY50l6Ry"
      },
      "source": [
        "Pathlight signin Page"
      ]
    },
    {
      "cell_type": "code",
      "execution_count": null,
      "metadata": {
        "colab": {
          "background_save": true
        },
        "id": "xmOD-KXRPnmD",
        "outputId": "1b399844-2dd9-491a-f298-6184c365f10a"
      },
      "outputs": [
        {
          "data": {
            "application/vnd.google.colaboratory.intrinsic+json": {
              "type": "string"
            },
            "text/plain": [
              "'Pathlight'"
            ]
          },
          "execution_count": 10,
          "metadata": {},
          "output_type": "execute_result"
        }
      ],
      "source": [
        "browser.get(\"https://scopesey.pathlightmgt.com/\")\n",
        "time.sleep(15)\n",
        "#browser.save_screenshot(\"screenshot_scopesey.png\")\n",
        "browser.title"
      ]
    },
    {
      "cell_type": "code",
      "execution_count": null,
      "metadata": {
        "colab": {
          "background_save": true
        },
        "id": "hWRpB9Wr0EMY"
      },
      "outputs": [],
      "source": [
        "from selenium.webdriver.common.by import By\n",
        "\n",
        "# login to website\n",
        "def login_prog():\n",
        "  time.sleep(5)\n",
        "  input_user = browser.find_element(By.ID, \"username\")\n",
        "  input_password = browser.find_element(By.ID, \"password\")\n",
        "\n",
        "  input_user.send_keys(username)\n",
        "  input_password.send_keys(password)\n",
        "  login_button = browser.find_element(By.XPATH, '//*[@id=\"kc-login\"]')\n",
        "  login_button.click()"
      ]
    },
    {
      "cell_type": "code",
      "execution_count": null,
      "metadata": {
        "colab": {
          "background_save": true
        },
        "id": "P0u_gnwD4EVB"
      },
      "outputs": [],
      "source": [
        "if (browser.title == 'Pathlight'):\n",
        "  login_prog()"
      ]
    },
    {
      "cell_type": "code",
      "execution_count": null,
      "metadata": {
        "colab": {
          "background_save": true
        },
        "id": "wjEUNaCQUgP1",
        "outputId": "4de313b7-340f-4ad9-d468-60dfa195c443"
      },
      "outputs": [
        {
          "data": {
            "application/vnd.google.colaboratory.intrinsic+json": {
              "type": "string"
            },
            "text/plain": [
              "'Pathlight'"
            ]
          },
          "execution_count": 13,
          "metadata": {},
          "output_type": "execute_result"
        }
      ],
      "source": [
        "# login button location and selections\n",
        "\n",
        "# used to verify logged in state of webpage\n",
        "# (added time.sleep(5) for webpage to fully load up)\n",
        "#time.sleep(2)\n",
        "browser.save_screenshot(\"inProgress.png\")\n",
        "browser.title"
      ]
    },
    {
      "cell_type": "code",
      "execution_count": null,
      "metadata": {
        "colab": {
          "base_uri": "https://localhost:8080/",
          "height": 410
        },
        "id": "t8OlEhQQmxBK",
        "outputId": "ac69a70f-43bb-47b1-f93a-85155ebe6c52"
      },
      "outputs": [
        {
          "data": {
            "image/png": "[encoded data removed]",
            "text/plain": [
              "<PIL.Image.Image image mode=RGB size=1920x1200>"
            ]
          },
          "metadata": {},
          "output_type": "display_data"
        }
      ],
      "source": [
        "#display in progress page in full view ,starting with scopewalk\n",
        "\n",
        "browser.get(\"https://scopesey.pathlightmgt.com/joblist?tab=1\")\n",
        "time.sleep(7)\n",
        "browser.save_screenshot(\"inProgress.png\")\n",
        "\n",
        "img = cv2.imread(\"inProgress.png\", cv2.IMREAD_ANYCOLOR)\n",
        "\n",
        "while True:\n",
        "    cv2_imshow(img)\n",
        "    cv2.waitKey(5)\n",
        "    break # to exit from all the processes\n",
        "\n",
        "cv2.destroyAllWindows() # destroy all windows"
      ]
    },
    {
      "cell_type": "code",
      "execution_count": null,
      "metadata": {
        "id": "1R8rax1AtZr0"
      },
      "outputs": [],
      "source": [
        "\n",
        "\n",
        "#display in progress page in full view ,starting with scopewalk\n"
      ]
    },
    {
      "cell_type": "code",
      "execution_count": null,
      "metadata": {
        "colab": {
          "base_uri": "https://localhost:8080/",
          "height": 879
        },
        "id": "gEEVKa8zuao1",
        "outputId": "7bfb7ed8-d1b9-467b-e254-9708c37f9808"
      },
      "outputs": [
        {
          "ename": "NoSuchElementException",
          "evalue": "ignored",
          "output_type": "error",
          "traceback": [
            "\u001b[0;31m---------------------------------------------------------------------------\u001b[0m",
            "\u001b[0;31mNoSuchElementException\u001b[0m                    Traceback (most recent call last)",
            "\u001b[0;32m<ipython-input-17-b15c76b30afd>\u001b[0m in \u001b[0;36m<cell line: 4>\u001b[0;34m()\u001b[0m\n\u001b[1;32m      2\u001b[0m \u001b[0;34m\u001b[0m\u001b[0m\n\u001b[1;32m      3\u001b[0m \u001b[0;31m#next button available to be pressed?\u001b[0m\u001b[0;34m\u001b[0m\u001b[0;34m\u001b[0m\u001b[0m\n\u001b[0;32m----> 4\u001b[0;31m \u001b[0mWO_Btn\u001b[0m \u001b[0;34m=\u001b[0m \u001b[0mbrowser\u001b[0m\u001b[0;34m.\u001b[0m\u001b[0mfind_element\u001b[0m\u001b[0;34m(\u001b[0m\u001b[0mBy\u001b[0m\u001b[0;34m.\u001b[0m\u001b[0mXPATH\u001b[0m\u001b[0;34m,\u001b[0m \u001b[0;34m'//*[@id=\"app\"]/div[1]/div[2]/section/div/div[1]/div[2]/div[3]/div[2]/div[1]/div[3]/table/tbody/tr[1]/td[1]/div/a'\u001b[0m\u001b[0;34m)\u001b[0m\u001b[0;34m\u001b[0m\u001b[0;34m\u001b[0m\u001b[0m\n\u001b[0m\u001b[1;32m      5\u001b[0m \u001b[0;32mif\u001b[0m \u001b[0mWO_Btn\u001b[0m\u001b[0;34m.\u001b[0m\u001b[0mis_enabled\u001b[0m\u001b[0;34m(\u001b[0m\u001b[0;34m)\u001b[0m\u001b[0;34m:\u001b[0m\u001b[0;34m\u001b[0m\u001b[0;34m\u001b[0m\u001b[0m\n\u001b[1;32m      6\u001b[0m   \u001b[0mWO_Btn\u001b[0m\u001b[0;34m.\u001b[0m\u001b[0mclick\u001b[0m\u001b[0;34m(\u001b[0m\u001b[0;34m)\u001b[0m\u001b[0;34m\u001b[0m\u001b[0;34m\u001b[0m\u001b[0m\n",
            "\u001b[0;32m/usr/local/lib/python3.10/dist-packages/selenium/webdriver/remote/webdriver.py\u001b[0m in \u001b[0;36mfind_element\u001b[0;34m(self, by, value)\u001b[0m\n\u001b[1;32m    737\u001b[0m             \u001b[0mvalue\u001b[0m \u001b[0;34m=\u001b[0m \u001b[0;34mf'[name=\"{value}\"]'\u001b[0m\u001b[0;34m\u001b[0m\u001b[0;34m\u001b[0m\u001b[0m\n\u001b[1;32m    738\u001b[0m \u001b[0;34m\u001b[0m\u001b[0m\n\u001b[0;32m--> 739\u001b[0;31m         \u001b[0;32mreturn\u001b[0m \u001b[0mself\u001b[0m\u001b[0;34m.\u001b[0m\u001b[0mexecute\u001b[0m\u001b[0;34m(\u001b[0m\u001b[0mCommand\u001b[0m\u001b[0;34m.\u001b[0m\u001b[0mFIND_ELEMENT\u001b[0m\u001b[0;34m,\u001b[0m \u001b[0;34m{\u001b[0m\u001b[0;34m\"using\"\u001b[0m\u001b[0;34m:\u001b[0m \u001b[0mby\u001b[0m\u001b[0;34m,\u001b[0m \u001b[0;34m\"value\"\u001b[0m\u001b[0;34m:\u001b[0m \u001b[0mvalue\u001b[0m\u001b[0;34m}\u001b[0m\u001b[0;34m)\u001b[0m\u001b[0;34m[\u001b[0m\u001b[0;34m\"value\"\u001b[0m\u001b[0;34m]\u001b[0m\u001b[0;34m\u001b[0m\u001b[0;34m\u001b[0m\u001b[0m\n\u001b[0m\u001b[1;32m    740\u001b[0m \u001b[0;34m\u001b[0m\u001b[0m\n\u001b[1;32m    741\u001b[0m     \u001b[0;32mdef\u001b[0m \u001b[0mfind_elements\u001b[0m\u001b[0;34m(\u001b[0m\u001b[0mself\u001b[0m\u001b[0;34m,\u001b[0m \u001b[0mby\u001b[0m\u001b[0;34m=\u001b[0m\u001b[0mBy\u001b[0m\u001b[0;34m.\u001b[0m\u001b[0mID\u001b[0m\u001b[0;34m,\u001b[0m \u001b[0mvalue\u001b[0m\u001b[0;34m:\u001b[0m \u001b[0mOptional\u001b[0m\u001b[0;34m[\u001b[0m\u001b[0mstr\u001b[0m\u001b[0;34m]\u001b[0m \u001b[0;34m=\u001b[0m \u001b[0;32mNone\u001b[0m\u001b[0;34m)\u001b[0m \u001b[0;34m->\u001b[0m \u001b[0mList\u001b[0m\u001b[0;34m[\u001b[0m\u001b[0mWebElement\u001b[0m\u001b[0;34m]\u001b[0m\u001b[0;34m:\u001b[0m\u001b[0;34m\u001b[0m\u001b[0;34m\u001b[0m\u001b[0m\n",
            "\u001b[0;32m/usr/local/lib/python3.10/dist-packages/selenium/webdriver/remote/webdriver.py\u001b[0m in \u001b[0;36mexecute\u001b[0;34m(self, driver_command, params)\u001b[0m\n\u001b[1;32m    343\u001b[0m         \u001b[0mresponse\u001b[0m \u001b[0;34m=\u001b[0m \u001b[0mself\u001b[0m\u001b[0;34m.\u001b[0m\u001b[0mcommand_executor\u001b[0m\u001b[0;34m.\u001b[0m\u001b[0mexecute\u001b[0m\u001b[0;34m(\u001b[0m\u001b[0mdriver_command\u001b[0m\u001b[0;34m,\u001b[0m \u001b[0mparams\u001b[0m\u001b[0;34m)\u001b[0m\u001b[0;34m\u001b[0m\u001b[0;34m\u001b[0m\u001b[0m\n\u001b[1;32m    344\u001b[0m         \u001b[0;32mif\u001b[0m \u001b[0mresponse\u001b[0m\u001b[0;34m:\u001b[0m\u001b[0;34m\u001b[0m\u001b[0;34m\u001b[0m\u001b[0m\n\u001b[0;32m--> 345\u001b[0;31m             \u001b[0mself\u001b[0m\u001b[0;34m.\u001b[0m\u001b[0merror_handler\u001b[0m\u001b[0;34m.\u001b[0m\u001b[0mcheck_response\u001b[0m\u001b[0;34m(\u001b[0m\u001b[0mresponse\u001b[0m\u001b[0;34m)\u001b[0m\u001b[0;34m\u001b[0m\u001b[0;34m\u001b[0m\u001b[0m\n\u001b[0m\u001b[1;32m    346\u001b[0m             \u001b[0mresponse\u001b[0m\u001b[0;34m[\u001b[0m\u001b[0;34m\"value\"\u001b[0m\u001b[0;34m]\u001b[0m \u001b[0;34m=\u001b[0m \u001b[0mself\u001b[0m\u001b[0;34m.\u001b[0m\u001b[0m_unwrap_value\u001b[0m\u001b[0;34m(\u001b[0m\u001b[0mresponse\u001b[0m\u001b[0;34m.\u001b[0m\u001b[0mget\u001b[0m\u001b[0;34m(\u001b[0m\u001b[0;34m\"value\"\u001b[0m\u001b[0;34m,\u001b[0m \u001b[0;32mNone\u001b[0m\u001b[0;34m)\u001b[0m\u001b[0;34m)\u001b[0m\u001b[0;34m\u001b[0m\u001b[0;34m\u001b[0m\u001b[0m\n\u001b[1;32m    347\u001b[0m             \u001b[0;32mreturn\u001b[0m \u001b[0mresponse\u001b[0m\u001b[0;34m\u001b[0m\u001b[0;34m\u001b[0m\u001b[0m\n",
            "\u001b[0;32m/usr/local/lib/python3.10/dist-packages/selenium/webdriver/remote/errorhandler.py\u001b[0m in \u001b[0;36mcheck_response\u001b[0;34m(self, response)\u001b[0m\n\u001b[1;32m    227\u001b[0m                 \u001b[0malert_text\u001b[0m \u001b[0;34m=\u001b[0m \u001b[0mvalue\u001b[0m\u001b[0;34m[\u001b[0m\u001b[0;34m\"alert\"\u001b[0m\u001b[0;34m]\u001b[0m\u001b[0;34m.\u001b[0m\u001b[0mget\u001b[0m\u001b[0;34m(\u001b[0m\u001b[0;34m\"text\"\u001b[0m\u001b[0;34m)\u001b[0m\u001b[0;34m\u001b[0m\u001b[0;34m\u001b[0m\u001b[0m\n\u001b[1;32m    228\u001b[0m             \u001b[0;32mraise\u001b[0m \u001b[0mexception_class\u001b[0m\u001b[0;34m(\u001b[0m\u001b[0mmessage\u001b[0m\u001b[0;34m,\u001b[0m \u001b[0mscreen\u001b[0m\u001b[0;34m,\u001b[0m \u001b[0mstacktrace\u001b[0m\u001b[0;34m,\u001b[0m \u001b[0malert_text\u001b[0m\u001b[0;34m)\u001b[0m  \u001b[0;31m# type: ignore[call-arg]  # mypy is not smart enough here\u001b[0m\u001b[0;34m\u001b[0m\u001b[0;34m\u001b[0m\u001b[0m\n\u001b[0;32m--> 229\u001b[0;31m         \u001b[0;32mraise\u001b[0m \u001b[0mexception_class\u001b[0m\u001b[0;34m(\u001b[0m\u001b[0mmessage\u001b[0m\u001b[0;34m,\u001b[0m \u001b[0mscreen\u001b[0m\u001b[0;34m,\u001b[0m \u001b[0mstacktrace\u001b[0m\u001b[0;34m)\u001b[0m\u001b[0;34m\u001b[0m\u001b[0;34m\u001b[0m\u001b[0m\n\u001b[0m",
            "\u001b[0;31mNoSuchElementException\u001b[0m: Message: no such element: Unable to locate element: {\"method\":\"xpath\",\"selector\":\"//*[@id=\"app\"]/div[1]/div[2]/section/div/div[1]/div[2]/div[3]/div[2]/div[1]/div[3]/table/tbody/tr[1]/td[1]/div/a\"}\n  (Session info: headless chrome=119.0.6045.105); For documentation on this error, please visit: https://www.selenium.dev/documentation/webdriver/troubleshooting/errors#no-such-element-exception\nStacktrace:\n#0 0x5699bb5f05e3 <unknown>\n#1 0x5699bb2b30b7 <unknown>\n#2 0x5699bb300f53 <unknown>\n#3 0x5699bb301051 <unknown>\n#4 0x5699bb3469c4 <unknown>\n#5 0x5699bb327f1d <unknown>\n#6 0x5699bb343b3d <unknown>\n#7 0x5699bb327cc3 <unknown>\n#8 0x5699bb2f30e4 <unknown>\n#9 0x5699bb2f40ae <unknown>\n#10 0x5699bb5b6ce1 <unknown>\n#11 0x5699bb5bab7e <unknown>\n#12 0x5699bb5a44b5 <unknown>\n#13 0x5699bb5bb7d6 <unknown>\n#14 0x5699bb587dbf <unknown>\n#15 0x5699bb5de748 <unknown>\n#16 0x5699bb5de917 <unknown>\n#17 0x5699bb5ef773 <unknown>\n#18 0x7b933007bac3 <unknown>\n"
          ]
        }
      ],
      "source": [
        "#display in progress page Work Orders\n",
        "\n",
        "#next button available to be pressed?\n",
        "WO_Btn = browser.find_element(By.XPATH, '//*[@id=\"app\"]/div[1]/div[2]/section/div/div[1]/div[2]/div[3]/div[2]/div[1]/div[3]/table/tbody/tr[1]/td[1]/div/a')\n",
        "if WO_Btn.is_enabled():\n",
        "  WO_Btn.click()\n",
        "  img = cv2.imread(\"inProgress.png\", cv2.IMREAD_ANYCOLOR)\n",
        "\n",
        "  while True:\n",
        "    cv2_imshow(img)\n",
        "    cv2.waitKey(5)\n",
        "    break # to exit from all the processes\n",
        "\n",
        "  cv2.destroyAllWindows() # destroy all windows"
      ]
    },
    {
      "cell_type": "code",
      "execution_count": null,
      "metadata": {
        "id": "aaZ8GAOeSRUw"
      },
      "outputs": [],
      "source": [
        "#downloading from shared link https://drive.google.com/file/d/1PfWxY_ISo6Q-P9OGVADXflWhMUoy7-nM/view\n",
        "\n",
        "!gdown --id 1PfWxY_ISo6Q-P9OGVADXflWhMUoy7-nM -O my_file.zip"
      ]
    },
    {
      "cell_type": "code",
      "execution_count": null,
      "metadata": {
        "id": "z8XtMxDWUPg3"
      },
      "outputs": [],
      "source": [
        "#with zipfile.ZipFile('my_file.zip', 'r') as zip_ref:\n",
        " #   zip_ref.extractall('files')\n",
        "  #  time.sleep(5)"
      ]
    },
    {
      "cell_type": "code",
      "execution_count": null,
      "metadata": {
        "id": "3iYeA2RlYQke"
      },
      "outputs": [],
      "source": [
        "soup = BeautifulSoup(browser.page_source)"
      ]
    },
    {
      "cell_type": "code",
      "execution_count": null,
      "metadata": {
        "id": "CJH4-VWO9Kx2"
      },
      "outputs": [],
      "source": [
        "first_number_int = int(3)\n",
        "second_number_int = int(3)\n",
        "#code used to determine how many scopewalks are pending\n",
        "\n",
        "\n",
        "\n",
        "time.sleep(5)\n",
        "#jobsAmount = browser.find_element(By.XPATH,'//*[@id=\"app\"]/div[1]/div[2]/section/div/div[2]/div/div[3]/span')\n",
        "jobsAmount = browser.find_element(By.XPATH,'//*[@id=\"app\"]/div[1]/div[2]/section/div/div[1]/div[2]/div[3]/div[3]/span')\n",
        "text = jobsAmount.text\n",
        "words = text.split()  # split the string into a list of words\n",
        "first_number = words[1]\n",
        "second_number = words[3]\n",
        "first_number_int = int(first_number)\n",
        "first_number_int = int(3)\n",
        "second_number_int = int(second_number)\n",
        "print(f'displaying {first_number_int} of {second_number_int} entries')"
      ]
    },
    {
      "cell_type": "code",
      "execution_count": null,
      "metadata": {
        "id": "zoz4NY7AjDmo"
      },
      "outputs": [],
      "source": [
        "first_number_int = int(3)\n",
        "second_number_int = int(3)"
      ]
    },
    {
      "cell_type": "code",
      "execution_count": null,
      "metadata": {
        "id": "Z4r5NSShB3Tt"
      },
      "outputs": [],
      "source": [
        "i = 0\n",
        "scopeUrl = []\n",
        "workAvail = False;\n",
        "choice = ''\n",
        "while(i < first_number_int):\n",
        "\n",
        "  #getting jobtype text address\n",
        "\n",
        "  #jobAddy = f'//*[@id=\"app\"]/div[1]/div[2]/section/div/div[2]/div/div[2]/div/div[1]/div[3]/table/tbody/tr[{i+1}]/td[2]/div/span'\n",
        "  jobAddy = f'//*[@id=\"app\"]/div[1]/div[2]/section/div/div[1]/div[2]/div[3]/div[2]/div[1]/div[3]/table/tbody/tr[1]/td[1]/div/a'\n",
        "\n",
        "\n",
        "  modJobAddy = f'''{jobAddy}'''\n",
        "  jobType = browser.find_element(By.XPATH,modJobAddy)\n",
        "\n",
        "  #getting technician text address\n",
        "  techAddy = f'//*[@id=\"app\"]/div[1]/div[2]/section/div/div[2]/div/div[2]/div/div[1]/div[3]/table/tbody/tr[{i+1}]/td[4]/div/span'\n",
        "  modTechAddy = f'''{techAddy}'''\n",
        "  technician = browser.find_element(By.XPATH,modTechAddy)\n",
        "\n",
        "  #getting technician text address\n",
        "  itemsAddy = f'//*[@id=\"app\"]/div[1]/div[2]/section/div/div[2]/div/div[2]/div/div[1]/div[3]/table/tbody/tr[{i+1}]/td[3]/div/span'\n",
        "  moditemsAddy = f'''{itemsAddy}'''\n",
        "  items = browser.find_element(By.XPATH,moditemsAddy)\n",
        "\n",
        "  if(jobType.text == 'Scope Walk' and technician.text == targetTech and items.text == 'N/A'):\n",
        "    workAvail = True;\n",
        "    urlAddy = f'//*[@id=\"app\"]/div[1]/div[2]/section/div/div[2]/div/div[2]/div/div[1]/div[3]/table/tbody/tr[{i+1}]/td[1]/div/a'\n",
        "    modurlAddy = f'''{urlAddy}'''\n",
        "    urls = browser.find_element(By.XPATH,modurlAddy)\n",
        "    scopeUrl.append(urls.get_attribute('href'))\n",
        "\n",
        "  i = i+1"
      ]
    },
    {
      "cell_type": "code",
      "execution_count": null,
      "metadata": {
        "id": "l98Ia_2Hkoz_"
      },
      "outputs": [],
      "source": [
        "scopeUrl = ['https://scopesey.pathlightmgt.com/joblist/scopewalk/35548']"
      ]
    },
    {
      "cell_type": "markdown",
      "source": [
        "creating scopewalk sections for zip folder in selected language"
      ],
      "metadata": {
        "id": "3Wn5mKK_qt9Z"
      }
    },
    {
      "cell_type": "code",
      "execution_count": null,
      "metadata": {
        "id": "B-HSaqzGU7JC"
      },
      "outputs": [],
      "source": [
        "def languageCheck(choice):\n",
        "\n",
        "  if (choice != '1'):\n",
        "    scopelist = {\n",
        "    'Inspection' : 'general condition photos and walk (Utilities, and hvac filter photos)',\n",
        "    'Paint interior' :  'paint walls edge to edge',\n",
        "    'Bathrooms-plumbing' : 'shower heads, faucets, toilets, sinks',\n",
        "    'Bathrooms-accessories' : 'towel bars, paper holders, medicine cabinets, vents, counters',\n",
        "    'Cabinets' : 'paint bottoms, adjustments, repairs, replacements',\n",
        "    'Camera' : 'we have to install a 4 dummy cameras on exterior of property',\n",
        "    'Drywall' : 'holes, uneven surfaces, previous work that was done that needs remedy',\n",
        "    'Trim' : 'baseboard, crown molding, chair rail (they ask for linear feet of repairs)',\n",
        "    'Flooring' : 'carpet, vinyl, plank [squarefootage]',\n",
        "    'Electrical' : 'lighting, wiring, fans, gfci, outlets, cover plates, bulbs (gfci should be present in kitchen and wet areas, they want uniformity so match the color for replacements, whether it be white or beige, cover plates, outlets, etc).',\n",
        "    'Exterior' : 'would cover stucco, sidings, cracks in exterior wall, paint, driveway cracks, etc',\n",
        "    'Safety' : 'smoke alarms, co detectors, fire extinguishers, batteries: 9v and AA, detectors or alarms over 10 years old: replace, no anti tip device in oven? install one, no fire extinguisher present under kitchen sink? install, alarms not 10yrs old but need batteries?install',\n",
        "    'Fireplace' : 'service, repairs, chimney sweep',\n",
        "    'Caulking' : 'seal all wet areas',\n",
        "    'Windows' : 'repairs, screens, replacements',\n",
        "    'Blinds' : 'all areas [MakeReadys: all windows, TurnOvers:only windows facing street]',\n",
        "    'Laundry room' : 'vents, caps, repairs',\n",
        "    'Appliances' : 'cooktop,range,oven, microwave, dishwasher, refrigerator, vent hood, Always measure the space for refrigerator(W-H) and memo it on appliance photo in google drive, Dimensions of appliances (especially the max width refrigerator the opening can accommodate), Gas or Electric range / cooktop, Vented or recirculating over the range microwave',\n",
        "    'Kitchen': 'sink, faucet, disposal, counter',\n",
        "    'Doors' : 'interior/exterior, closets, knobs, door stops',\n",
        "    'Roof': 'repairs, boots, tiles and material, gutters',\n",
        "    'Landscaping' : 'mow/blow, weeds, trees, shrubs, mulch, rock',\n",
        "    'Fencing' : 'gates, pickets, repairs and adjustments',\n",
        "    'Irrigation': 'sprinklers',\n",
        "    'Pool' : 'filters, cleaning, pump, light, stucco',\n",
        "    'Cleaning' : 'maid all areas',\n",
        "    'Trash': 'measured in cubic yards',\n",
        "    'HVAC' : 'all parts and services, vents, filters, condensor,controller',\n",
        "    'Exterior' : 'stucco, siding, cracks, paint',\n",
        "    'Hot Water Heater' : 'always adjust temp and show in photo that it is in proper range',\n",
        "    'Garage':  'Door/ Opener- all parts'\n",
        "    }\n",
        "\n",
        "  else:\n",
        "    scopelist = {\n",
        "    'Inspección' : 'fotos de la condición general y recorrido (Utilidades, y fotos de filtros de HVAC)',\n",
        "    'Pintura interior' : 'pintar las paredes de borde a borde',\n",
        "    'Baños-plomería' : 'cabezales de ducha, grifos, inodoros, lavabos',\n",
        "    'Baños-accesorios' : 'barras de toallas, soportes para papel, gabinetes de medicina, ventilaciones, mostradores',\n",
        "    'Gabinetes' : 'pintar fondos, ajustes, reparaciones, reemplazos',\n",
        "    'Cámara' : 'tenemos que instalar 4 cámaras ficticias en el exterior de la propiedad',\n",
        "    'Pared de yeso' : 'agujeros, superficies desiguales, trabajos anteriores que necesitan remedio',\n",
        "    'Adorno' : 'rodapié, moldura de corona, riel de silla (solicitan pies lineales para reparaciones)',\n",
        "    'Pisos' : 'alfombra, vinilo, tablón [metros cuadrados]',\n",
        "    'Eléctrico' : 'iluminación, cableado, ventiladores, GFCI, enchufes, placas de cubierta, bombillas (GFCI deben estar presentes en la cocina y áreas húmedas, quieren uniformidad así que haga coincidir el color para los reemplazos, ya sea blanco o beige, placas de cubierta, enchufes, etc).',\n",
        "    'Exterior' : 'cubre estuco, revestimientos, grietas en la pared exterior, pintura, grietas en el camino de entrada, etc',\n",
        "    'Seguridad' : 'alarmas de humo, detectores de CO, extintores de incendios, baterías: 9v y AA, detectores o alarmas mayores de 10 años: reemplace, no hay dispositivo anti-inclinación en el horno? instale uno, no hay extintor de incendios presente debajo del fregadero de la cocina? instale, alarmas no de 10 años pero necesitan baterías? instale',\n",
        "    'Chimenea' : 'servicio, reparaciones, barrido de chimenea',\n",
        "    'Sellado' : 'sellar todas las áreas húmedas',\n",
        "    'Ventanas' : 'reparaciones, pantallas, reemplazos',\n",
        "    'Persianas' : 'todas las áreas [MakeReadys: todas las ventanas, TurnOvers: solo ventanas con vista a la calle]',\n",
        "    'Lavadero' : 'ventilaciones, tapas, reparaciones',\n",
        "    'Electrodomésticos' : 'placa de cocina, rango, horno, microondas, lavavajillas, refrigerador, campana extractora, Siempre mida el espacio para el refrigerador (ancho,  alto y profundidad) y anótelos en la foto del electrodoméstico en Google Drive, Dimensiones de los electrodomésticos (especialmente la anchura máxima que la apertura puede acomodar para el refrigerador), Rango de gas o eléctrico / placa de cocina, Microondas de recirculación o ventilado sobre el rango',\n",
        "    'Cocina': 'fregadero, grifo, triturador, mostrador',\n",
        "    'Puertas' : 'interior/exterior, armarios, pomos, topes de puertas',\n",
        "    'Techo': 'reparaciones, botas, tejas y material, canalones',\n",
        "    'Paisajismo' : 'corte/soplado, malas hierbas, árboles, arbustos, mantillo, roca',\n",
        "    'Vallado/Cerca' : 'puertas, listones, reparaciones y ajustes',\n",
        "    'Irrigación': 'aspersores',\n",
        "    'Piscina' : 'filtros, limpieza, bomba, luz, estuco',\n",
        "    'Limpieza' : 'servicio de limpieza en todas las áreas',\n",
        "    'Basura': 'medido en yardas cúbicas',\n",
        "    'Aire acondicionado' : 'todas las partes y servicios, ventilaciones, filtros, condensador, controlador',\n",
        "    'Exterior' : 'estuco, revestimiento, grietas, pintura',\n",
        "    'Calentador de agua caliente' : 'siempre ajuste la temperatura y muestre en la foto que está en el rango adecuado',\n",
        "    'Garaje':  'Puerta/ Abrelatas- todas las partes'\n",
        "    }\n",
        "  return scopelist"
      ]
    },
    {
      "cell_type": "markdown",
      "source": [
        "distinguishing between property types- make_ready:prev owned by private party, turn_over: prev leased by tenant"
      ],
      "metadata": {
        "id": "KWRZzkPQpiEr"
      }
    },
    {
      "cell_type": "code",
      "execution_count": null,
      "metadata": {
        "id": "7RVE8YaoYiTK"
      },
      "outputs": [],
      "source": [
        "\n",
        "def mainFolderName(scropeUrl):\n",
        "  mainFolder = []\n",
        "\n",
        "  for u in scopeUrl:\n",
        "    browser.get(u)\n",
        "    time.sleep(5)\n",
        "    location = browser.find_element(By.XPATH,'//*[@id=\"app\"]/div[1]/div[2]/section/div[2]/div[1]/div/div/div[1]/span[1]')\n",
        "    addy = location.text\n",
        "    # replace 'Turn Over' or 'Turn Over <anything>' with 'TO'\n",
        "    addy = re.sub(r'Turn Over.*$', '_TO', addy, flags=re.IGNORECASE)\n",
        "    # replace 'Make Ready' or 'Make Ready <anything>' with 'MR'\n",
        "    addy = re.sub(r'Make Ready.*$', '_MR', addy, flags=re.IGNORECASE)\n",
        "\n",
        "    lockbox = browser.find_element(By.XPATH,'//*[@id=\"app\"]/div[1]/div[2]/section/div[2]/div[1]/div/div/div[2]/div/div[1]/div[2]')\n",
        "    dueDate = browser.find_element(By.XPATH,'//*[@id=\"app\"]/div[1]/div[2]/section/div[2]/div[1]/div/div/div[2]/div/div[3]/div[2]')\n",
        "    dueDate = str(dueDate.text)\n",
        "    dueDate = dueDate.replace('/', '-')\n",
        "    mainFolder.append(f'{addy},lockbox_{lockbox.text},due_{dueDate},assigned_')\n",
        "    print(u)\n",
        "    print(mainFolder)\n",
        "  return mainFolder"
      ]
    },
    {
      "cell_type": "markdown",
      "source": [
        "Create zip folders from list of properties containing standard scopewalk sections"
      ],
      "metadata": {
        "id": "n9oMuqDQohO2"
      }
    },
    {
      "cell_type": "code",
      "execution_count": null,
      "metadata": {
        "id": "LHRe1Tat1c1N"
      },
      "outputs": [],
      "source": [
        "\n",
        "def create_and_zip_folders(mainFolder, scopeList,choice):\n",
        "    # Create the primary folder\n",
        "    if not os.path.exists(mainFolder):\n",
        "        os.makedirs(mainFolder)\n",
        "\n",
        "    with zipfile.ZipFile('my_file.zip', 'r') as zip_ref:\n",
        "        zip_ref.extractall('files')\n",
        "\n",
        "    base_path = '/content/files/baseForScopewalk'\n",
        "\n",
        "    if not os.path.exists(mainFolder):\n",
        "        os.makedirs(mainFolder)\n",
        "    if(choice != '1'):\n",
        "      os.makedirs(os.path.join(mainFolder, '0. Rekey', 'before'))\n",
        "      os.makedirs(os.path.join(mainFolder, '0. Rekey', 'after'))\n",
        "    else:\n",
        "      os.makedirs(os.path.join(mainFolder, '0. Rekey', 'antes'))\n",
        "      os.makedirs(os.path.join(mainFolder, '0. Rekey', 'despues'))\n",
        "    os.makedirs(os.path.join(mainFolder, '2. Scopewalk'))\n",
        "\n",
        "    # Move the files\n",
        "    for file_name in os.listdir(base_path):\n",
        "        if (file_name == 'Rekey.html'):\n",
        "            shutil.move(os.path.join(base_path, file_name), os.path.join(mainFolder, '0. Rekey'))\n",
        "        elif file_name not in ['Rekey.html', 'camera.jpg', 'Chimney.jpg', 'exterior.jpg', 'roofing.png', 'SprinklerSystem.jpg']:\n",
        "            shutil.move(os.path.join(base_path, file_name), mainFolder)\n",
        "\n",
        "    # In '2. Scopewalk' folder, create folders for each key in the dictionary\n",
        "    scopewalk_folder = os.path.join(mainFolder, '2. Scopewalk')\n",
        "    for key, value in scopeList.items():\n",
        "        key_folder = os.path.join(scopewalk_folder, key)\n",
        "        if not os.path.exists(key_folder):\n",
        "            os.makedirs(key_folder)\n",
        "\n",
        "        # Write the value to a text file in its respective folder\n",
        "        if(choice != '1'):\n",
        "          file_path = os.path.join(key_folder, 'description.txt')\n",
        "        elif(choice == '1'):\n",
        "          file_path = os.path.join(key_folder, 'descripción.txt')\n",
        "        with open(file_path, 'w') as f:\n",
        "            f.write(f'{key} - {value}')\n",
        "\n",
        "         # copy the specific images into the specific sub-folders\n",
        "        if(choice != '1'):\n",
        "          image_dict = {\"Camera\": \"camera.jpg\",\"Fireplace\": \"Chimney.jpg\", \"Exterior\": \"exterior.jpg\", \"Roof\": \"roofing.png\", \"Irrigation\": \"SprinklerSystem.jpg\"}\n",
        "        elif(choice == '1'):\n",
        "          image_dict = {\"Cámara\": \"camera.jpg\",\"Chimenea\": \"Chimney.jpg\", \"Exterior\": \"exterior.jpg\", \"Techo\": \"roofing.png\", \"Irrigación\": \"SprinklerSystem.jpg\"}\n",
        "        if key in image_dict:\n",
        "            shutil.copy(f'/content/files/baseForScopewalk/{image_dict[key]}', key_folder)\n",
        "\n",
        "\n",
        "    # Zip the main folder\n",
        "    shutil.make_archive(mainFolder, 'zip', mainFolder)\n",
        "    #files.download(f'/content/{mainFolder}.zip')"
      ]
    },
    {
      "cell_type": "markdown",
      "source": [
        "spanish coversion portion"
      ],
      "metadata": {
        "id": "2g7rpcX5nTe4"
      }
    },
    {
      "cell_type": "code",
      "execution_count": null,
      "metadata": {
        "id": "pKa-WNHwpP77"
      },
      "outputs": [],
      "source": [
        "def foundWork():\n",
        "  c = input(\"work found:\\nWould you like to convert the list to Spanish (1) or leave it in English (2)? Please enter '1' or '2': \")\n",
        "  scope = languageCheck(c)\n",
        "\n",
        "  main = mainFolderName(scopeUrl)\n",
        "\n",
        "  for m in main:\n",
        "    create_and_zip_folders(m, scope,c)\n",
        "    files.download(f'/content/{m}.zip')"
      ]
    },
    {
      "cell_type": "code",
      "execution_count": null,
      "metadata": {
        "id": "chRPCqfSw2dQ"
      },
      "outputs": [],
      "source": [
        "#if workAvail == True:\n",
        "  #foundWork()\n",
        "foundWork()"
      ]
    }
  ],
  "metadata": {
    "colab": {
      "provenance": [],
      "authorship_tag": "ABX9TyNDUypxyJJBZDHCqN5Zo7Ok",
      "include_colab_link": true
    },
    "kernelspec": {
      "display_name": "Python 3",
      "name": "python3"
    },
    "language_info": {
      "name": "python"
    }
  },
  "nbformat": 4,
  "nbformat_minor": 0
}